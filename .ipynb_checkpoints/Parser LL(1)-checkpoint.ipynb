{
 "cells": [
  {
   "cell_type": "code",
   "execution_count": 3,
   "id": "0892dbed-cd80-4718-873c-ccaca31330b0",
   "metadata": {},
   "outputs": [
    {
     "name": "stdout",
     "output_type": "stream",
     "text": [
      "The input was not valid according to the given grammar.\n"
     ]
    }
   ],
   "source": [
    "class Rule:\n",
    "    def __init__(self, lhs, rhs):\n",
    "        self.lhs = lhs\n",
    "        self.rhs = rhs\n",
    "\n",
    "# The input to be parsed\n",
    "input_str = \"for i in range(10):\"\n",
    "\n",
    "stack = []\n",
    "\n",
    "def apply_rule(rule):\n",
    "    # Pop the right-hand side of the rule off the stack\n",
    "    rhs = stack[-len(rule.rhs):]\n",
    "    del stack[-len(rule.rhs):]\n",
    "\n",
    "    stack.append(rule.lhs)\n",
    "\n",
    "def parse():\n",
    "    tokens = input_str.split()\n",
    "\n",
    "    stack.append('S')\n",
    "\n",
    "    while stack:\n",
    "        top_symbol = stack[-1]\n",
    "\n",
    "        if top_symbol in terminals:\n",
    "            if top_symbol == tokens[0]:\n",
    "                stack.pop()\n",
    "                tokens.pop(0)\n",
    "            else:\n",
    "                return False\n",
    "        else:\n",
    "            for rule in rules:\n",
    "                if rule.lhs == top_symbol:\n",
    "                    if rule.rhs == tokens[:len(rule.rhs)]:\n",
    "                        apply_rule(rule)\n",
    "                        break\n",
    "            else:\n",
    "                return False\n",
    "\n",
    "    return True\n",
    "\n",
    "terminals = ['for', 'in', 'range', '(', ')', ':', '0', '1', '2', '3', '4', '5', '6', '7', '8', '9', '++','A', 'B', 'C', 'D', 'E', 'F', 'G', 'H', 'I', 'J', 'K', 'L', 'M', 'N', 'O', 'P', 'Q', 'R', 'S', 'T', 'U', 'V', 'W', 'X', 'Y', 'Z', 'a', 'b', 'c', 'd', 'e', 'f', 'g', 'h', 'i', 'j', 'k', 'l', 'm', 'n', 'o', 'p', 'q', 'r', 's', 't', 'u', 'v', 'w', 'x', 'y', 'z']\n",
    "nonterminals = ['S', 'F', 'B', 'V', 'I', 'R', 'P', 'E', 'L', 'D', 'X']\n",
    "\n",
    "rules = [\n",
    "    Rule('S', ['F', 'B', 'V', 'I', 'R', 'P', 'E']),\n",
    "    Rule('F', ['for']),\n",
    "    Rule('B', [' ', ' ', 'B']),\n",
    "    Rule('B', []),\n",
    "    Rule('V', ['LX']),\n",
    "    Rule('V', ['_X']),\n",
    "    Rule('L', ['A', 'B', 'C', 'D', 'E', 'F', 'G', 'H', 'I', 'J', 'K', 'L', 'M', 'N', 'O', 'P', 'Q', 'R', 'S', 'T', 'U', 'V', 'W', 'X', 'Y', 'Z', 'a', 'b', 'c', 'd', 'e', 'f', 'g', 'h', 'i', 'j', 'k', 'l', 'm', 'n', 'o', 'p', 'q', 'r', 's', 't', 'u', 'v', 'w', 'x', 'y', 'z']),\n",
    "    Rule('D', ['0', '1', '2', '3', '4', '5', '6', '7', '8', '9']),\n",
    "    Rule('X', ['LX']),\n",
    "    Rule('X', ['DX']),\n",
    "    Rule('X', ['_X']),\n",
    "    Rule('I', ['in']),\n",
    "    Rule('R', ['range']),\n",
    "    Rule('P', ['(', ')', ':']),\n",
    "    Rule('E', ['D']),\n",
    "    Rule('E', ['D', 'E']),\n",
    "]\n",
    "\n",
    "result = parse()\n",
    "\n",
    "if result:\n",
    "    print(\"The input was successfully parsed according to the given grammar.\")\n",
    "else:\n",
    "    print(\"The input was not valid according to the given grammar.\")\n"
   ]
  },
  {
   "cell_type": "code",
   "execution_count": null,
   "id": "26884449-917f-4999-bff0-750f5622e4cc",
   "metadata": {},
   "outputs": [],
   "source": []
  }
 ],
 "metadata": {
  "kernelspec": {
   "display_name": "Python 3",
   "language": "python",
   "name": "python3"
  },
  "language_info": {
   "codemirror_mode": {
    "name": "ipython",
    "version": 3
   },
   "file_extension": ".py",
   "mimetype": "text/x-python",
   "name": "python",
   "nbconvert_exporter": "python",
   "pygments_lexer": "ipython3",
   "version": "3.8.8"
  }
 },
 "nbformat": 4,
 "nbformat_minor": 5
}
