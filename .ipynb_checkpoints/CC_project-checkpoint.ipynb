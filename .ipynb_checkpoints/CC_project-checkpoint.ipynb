{
 "cells": [
  {
   "cell_type": "markdown",
   "id": "b0258159-3117-4242-a785-c282d5bfb89d",
   "metadata": {},
   "source": [
    "# Lexical Analyzer\n",
    "## Members:\n",
    "* ###  Muhammad Qasim 9832\n",
    "* ###  Hanzala Khalid 10114\n",
    "* ###  Muhammad Faizan 10120\n",
    "\n"
   ]
  },
  {
   "cell_type": "code",
   "execution_count": 36,
   "id": "1a2b3d9c-7af8-4569-a6e5-89f32976dac0",
   "metadata": {},
   "outputs": [],
   "source": [
    "import re\n",
    "import networkx as nx\n",
    "import matplotlib.pyplot as plt"
   ]
  },
  {
   "cell_type": "code",
   "execution_count": 37,
   "id": "fdde6a52-5488-4561-9397-f7dbb45b353e",
   "metadata": {},
   "outputs": [
    {
     "name": "stdout",
     "output_type": "stream",
     "text": [
      "Token: FOR, Value: for\n",
      "Token: IDENTIFIER, Value: i\n",
      "Token: IN, Value: in\n",
      "Token: RANGE, Value: range\n",
      "\n",
      "All entered words:\n",
      "for\n",
      "i\n",
      "in\n",
      "range\n"
     ]
    }
   ],
   "source": [
    "# Define token types\n",
    "TOKEN_TYPES = [\n",
    "    ('FOR', r'\\bfor\\b'),\n",
    "    ('IN', r'\\bin\\b'),\n",
    "    ('RANGE', r'\\brange\\b'),\n",
    "    ('LPAREN', r'\\('),\n",
    "    ('RPAREN', r'\\)'),\n",
    "    ('IDENTIFIER', r'[a-zA-Z_]\\w*'),\n",
    "    ('COLON', r':'),\n",
    "    ('NUMBER', r'\\d+'),\n",
    "]\n",
    "\n",
    "# Regular expression to skip whitespace\n",
    "SKIP_REGEX = r'\\s+'\n",
    "\n",
    "# Read code from a text file\n",
    "with open(\"./for.txt\", \"r\") as file:\n",
    "    code = file.read()\n",
    "\n",
    "# List to store all entered words\n",
    "entered_words = []\n",
    "\n",
    "# Define finite automaton states\n",
    "states = {\n",
    "    'START': 'a',\n",
    "    'IDENTIFIER': 'b',\n",
    "    'NUMBER': 'c',\n",
    "    'IN': 'd',\n",
    "    'RANGE': 'e',\n",
    "    'COLON': 'f',\n",
    "    'RPAREN': 'g',\n",
    "}\n",
    "\n",
    "# Transition function for the finite automaton\n",
    "def transition(state, token_type):\n",
    "    transitions = {\n",
    "        'a': {\n",
    "            'FOR': 'b',\n",
    "        },\n",
    "        'b': {\n",
    "            'IDENTIFIER': 'c',\n",
    "        },\n",
    "        'c': {\n",
    "            'IN': 'd',\n",
    "        },\n",
    "        'd': {\n",
    "            'RANGE': 'e',\n",
    "        },\n",
    "        'e': {\n",
    "            'NUMBER': 'f',\n",
    "        },\n",
    "        'f': {\n",
    "            'COLON': 'g',\n",
    "        },\n",
    "        'g': {\n",
    "            'NUMBER': 'a',\n",
    "        },\n",
    "    }\n",
    "    return transitions[state].get(token_type, state)\n",
    "\n",
    "# Tokenize the input code\n",
    "def lex(code):\n",
    "    global current_state\n",
    "    tokens = []\n",
    "    position = 0\n",
    "\n",
    "    while position < len(code):\n",
    "        # Skip whitespace\n",
    "        skip_match = re.match(SKIP_REGEX, code[position:])\n",
    "        if skip_match:\n",
    "            position += skip_match.end()\n",
    "            continue\n",
    "\n",
    "        matched = False\n",
    "        for token_type, pattern in TOKEN_TYPES:\n",
    "            regex = re.compile(pattern)\n",
    "            match = regex.match(code, position)\n",
    "            if match:\n",
    "                value = match.group(0)\n",
    "                current_state = transition(current_state, token_type)\n",
    "                tokens.append((token_type, value))\n",
    "                if token_type != 'COLON':\n",
    "                    entered_words.append(value)\n",
    "                position = match.end()\n",
    "                matched = True\n",
    "                break\n",
    "\n",
    "        if not matched:\n",
    "            raise ValueError(f\"Unable to tokenize at position {position}: {code[position:]}\")\n",
    "\n",
    "    return tokens\n",
    "\n",
    "try:\n",
    "    current_state = states['START']\n",
    "    tokens = lex(code)\n",
    "\n",
    "    for token_type, value in tokens:\n",
    "        print(f\"Token: {token_type}, Value: {value}\")\n",
    "\n",
    "    print(\"\\nAll entered words:\")\n",
    "    for word in entered_words:\n",
    "        print(word)\n",
    "except ValueError as e:\n",
    "    print(e)"
   ]
  },
  {
   "cell_type": "code",
   "execution_count": 38,
   "id": "4c16b55c-85dc-4eda-801c-693d12400242",
   "metadata": {},
   "outputs": [
    {
     "data": {
      "image/png": "[encoded data removed]",
      "text/plain": [
       "<Figure size 432x288 with 1 Axes>"
      ]
     },
     "metadata": {},
     "output_type": "display_data"
    }
   ],
   "source": [
    "# Define the states and transitions of the finite automaton\n",
    "states = {\n",
    "    'START': 'a',\n",
    "    'IDENTIFIER': 'b',\n",
    "    'NUMBER': 'c',\n",
    "    'IN': 'd',\n",
    "    'RANGE': 'e',\n",
    "    'COLON': 'f',\n",
    "    'RPAREN': 'g',\n",
    "}\n",
    "\n",
    "transitions = {\n",
    "    'a': {'FOR': 'b'},\n",
    "    'b': {'IDENTIFIER': 'c'},\n",
    "    'c': {'IN': 'd'},\n",
    "    'd': {'RANGE': 'e'},\n",
    "    'e': {'NUMBER': 'f'},\n",
    "    'f': {'COLON': 'g'},\n",
    "    'g': {'NUMBER': 'a'},\n",
    "}\n",
    "\n",
    "# Create a directed graph\n",
    "G = nx.DiGraph()\n",
    "\n",
    "# Add nodes (states)\n",
    "for state_name in states.values():\n",
    "    G.add_node(state_name)\n",
    "\n",
    "# Add edges (transitions)\n",
    "for from_state, transitions_dict in transitions.items():\n",
    "    for token_type in transitions_dict.keys():\n",
    "        to_state = transitions_dict[token_type]\n",
    "        G.add_edge(from_state, to_state, label=token_type)\n",
    "\n",
    "# Draw the graph using a shell layout\n",
    "pos = nx.shell_layout(G)\n",
    "\n",
    "# Draw nodes\n",
    "nx.draw_networkx_nodes(G, pos)\n",
    "\n",
    "# Draw edges\n",
    "nx.draw_networkx_edges(G, pos)\n",
    "\n",
    "# Draw labels on edges\n",
    "edge_labels = {(from_state, to_state): label for from_state, to_state, label in G.edges(data='label')}\n",
    "nx.draw_networkx_edge_labels(G, pos, edge_labels=edge_labels)\n",
    "\n",
    "# Draw node labels\n",
    "node_labels = {state_name: state_name for state_name in states.values()}\n",
    "nx.draw_networkx_labels(G, pos, labels=node_labels)\n",
    "\n",
    "# Set plot title and display\n",
    "plt.title(\"Finite Automata\")\n",
    "plt.show()\n"
   ]
  },
  {
   "cell_type": "code",
   "execution_count": 44,
   "id": "7751ec54-d061-49e2-9d22-5830514b3dd5",
   "metadata": {},
   "outputs": [
    {
     "name": "stdout",
     "output_type": "stream",
     "text": [
      "Parsing successful!\n"
     ]
    }
   ],
   "source": [
    "class LL1Parser:\n",
    "    def __init__(self, tokens):\n",
    "        self.tokens = tokens\n",
    "        self.index = 0\n",
    "        self.current_token = None\n",
    "\n",
    "    def match(self, token_type):\n",
    "        if self.current_token[0] == token_type:\n",
    "            self.index += 1\n",
    "            if self.index < len(self.tokens):\n",
    "                self.current_token = self.tokens[self.index]\n",
    "\n",
    "    def parse_for_loop(self):\n",
    "        self.match('FOR')\n",
    "        self.match('IDENTIFIER')\n",
    "        self.match('IN')\n",
    "        self.match('RANGE')\n",
    "        self.match('LPAREN')\n",
    "        self.match('NUMBER')\n",
    "        self.match('RPAREN')\n",
    "        self.match('COLON')\n",
    "        self.parse_suite()\n",
    "\n",
    "    def parse_suite(self):\n",
    "        # Placeholder for parsing the suite; you would need to implement this part.\n",
    "        pass\n",
    "\n",
    "# Read code from a text file\n",
    "with open(\"./for.txt\", \"r\") as file:\n",
    "    code = file.read()\n",
    "\n",
    "# Tokenize the code\n",
    "current_state = states['START']\n",
    "tokens = lex(code)\n",
    "tokens.append(('EOF', ''))  # Add EOF token\n",
    "current_token = tokens[0]\n",
    "\n",
    "# Initialize the parser\n",
    "parser = LL1Parser(tokens)\n",
    "parser.current_token = current_token\n",
    "\n",
    "try:\n",
    "    parser.parse_for_loop()\n",
    "\n",
    "    if parser.current_token[0] == 'EOF' and parser.index == len(tokens) - 1:\n",
    "        print(\"Parsing successful!\")\n",
    "    else:\n",
    "        print(\"Parsing failed: Not all tokens were consumed.\")\n",
    "except ValueError as e:\n",
    "    print(\"Parsing failed:\", e)\n"
   ]
  },
  {
   "cell_type": "code",
   "execution_count": 45,
   "id": "33d4d5e0-5724-4c1e-a2ea-ca2fb2692bad",
   "metadata": {},
   "outputs": [
    {
     "name": "stdout",
     "output_type": "stream",
     "text": [
      "0\n",
      "1\n",
      "2\n",
      "3\n",
      "4\n",
      "5\n",
      "6\n",
      "7\n",
      "8\n",
      "9\n"
     ]
    }
   ],
   "source": [
    "for         i in range(10):\n",
    "    print(i)\n"
   ]
  },
  {
   "cell_type": "code",
   "execution_count": 47,
   "id": "75bd01c0-fdcc-4e91-95a5-43d31433eb57",
   "metadata": {},
   "outputs": [
    {
     "data": {
      "text/plain": [
       "'okok'"
      ]
     },
     "execution_count": 47,
     "metadata": {},
     "output_type": "execute_result"
    }
   ],
   "source": [
    "_9  = \"okok\"\n",
    "_9"
   ]
  },
  {
   "cell_type": "code",
   "execution_count": null,
   "id": "6a61bdc4-6989-44ce-9baf-a8462917bb4e",
   "metadata": {},
   "outputs": [],
   "source": []
  }
 ],
 "metadata": {
  "kernelspec": {
   "display_name": "Python 3",
   "language": "python",
   "name": "python3"
  },
  "language_info": {
   "codemirror_mode": {
    "name": "ipython",
    "version": 3
   },
   "file_extension": ".py",
   "mimetype": "text/x-python",
   "name": "python",
   "nbconvert_exporter": "python",
   "pygments_lexer": "ipython3",
   "version": "3.8.8"
  }
 },
 "nbformat": 4,
 "nbformat_minor": 5
}
